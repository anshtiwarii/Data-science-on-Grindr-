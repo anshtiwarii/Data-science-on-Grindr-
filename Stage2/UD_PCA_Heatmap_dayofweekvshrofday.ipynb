{
  "nbformat": 4,
  "nbformat_minor": 0,
  "metadata": {
    "colab": {
      "name": "UD_PCA&Heatmap_dayofweekvshrofday.ipynb",
      "provenance": [],
      "collapsed_sections": []
    },
    "kernelspec": {
      "name": "python3",
      "display_name": "Python 3"
    }
  },
  "cells": [
    {
      "cell_type": "code",
      "metadata": {
        "id": "tUNOFbmQ8f2g",
        "colab_type": "code",
        "colab": {}
      },
      "source": [
        "#importing libraries\n",
        "import numpy as np\n",
        "import pandas as pd\n",
        "import seaborn as sns\n",
        "import datetime\n",
        "import matplotlib.pyplot as plt\n",
        "from sklearn.decomposition import PCA"
      ],
      "execution_count": null,
      "outputs": []
    },
    {
      "cell_type": "code",
      "metadata": {
        "id": "UZM4HDQJ87h2",
        "colab_type": "code",
        "colab": {}
      },
      "source": [
        "def calc_pca():\n",
        "    #importing the data\n",
        "    df_data = pd.read_csv('/content/drive/My Drive/Com-Olho-Datasets/Unstructured_Data/Research_Extract_With_Labels.csv')\n",
        "    #Extracting all columns which are needed\n",
        "    lst1 = ['time','time-domLoading','time-domContentLoadedEventStart','unload_ms','diff_time_dcle_end-start','diff_time_response_end-start','m_x','m_y','m_z','clock','globals-time','sort','TV_lof','TV_hbos']\n",
        "    df_data_needed = df_data[df_data.columns.intersection(lst1)]\n",
        "    #Splitting the data into outliers and inliers\n",
        "    df_outliers = df_data_needed[df_data_needed[\"TV_hbos\"]==\"o\"]\n",
        "    df_outliers = df_outliers.reset_index()\n",
        "    df_outliers = df_outliers.drop(['TV_lof','TV_hbos','index'],axis=1)\n",
        "    df_inliers = df_data_needed[df_data_needed[\"TV_hbos\"]==\"n\"]\n",
        "    df_inliers = df_inliers.reset_index()\n",
        "    df_inliers = df_inliers.drop(['TV_lof','TV_hbos','index'],axis=1)\n",
        "    #converting outliers and inliers dataframes to a numpy array\n",
        "    outlier_data = df_outliers.to_numpy()\n",
        "    inlier_data = df_inliers.to_numpy()\n",
        "    #Applying PCA on outlier and inlier arrays\n",
        "    pca = PCA(2)\n",
        "    projected_outliers = pca.fit_transform(outlier_data)\n",
        "    projected_inliers = pca.fit_transform(inlier_data)\n",
        "    #plotting scatter plot of reduced outliers and inliers\n",
        "    plt.scatter(projected_outliers[:, 0], projected_outliers[:, 1],c=\"red\",s=10)\n",
        "    plt.scatter(projected_inliers[:, 0], projected_inliers[:, 1],c=\"blue\",s=10)\n",
        "    plt.xlabel('Reduced Component 1')\n",
        "    plt.ylabel('Reduced Component 2')\n",
        "    #saving the scatter plot\n",
        "    plt.savefig(\"hbos_pca.png\")\n",
        "    #printing the scatter plot\n",
        "    plt.show();"
      ],
      "execution_count": null,
      "outputs": []
    },
    {
      "cell_type": "code",
      "metadata": {
        "id": "3z6h5gmE-LHY",
        "colab_type": "code",
        "colab": {}
      },
      "source": [
        "#defining a function to calc histogram for HBOS or LOF\n",
        "def plot_histo(df_interest_data,algotype):\n",
        "    label_col = \"TV_\"+algotype\n",
        "    lst1 = ['day_of_the_week','hour_of_the_day',label_col]\n",
        "    df_interest_data_heat = df_interest_data[df_interest_data.columns.intersection(lst1)]\n",
        "    df_interest_data_heat = df_interest_data_heat[df_interest_data_heat[label_col]==\"o\"]\n",
        "    df_interest_data_heat = df_interest_data_heat.reset_index()\n",
        "    df_interest_data_heat = df_interest_data_heat.drop(['index'],axis=1)\n",
        "    df_interest_data_heat_grouped = df_interest_data_heat.groupby(['day_of_the_week','hour_of_the_day']).agg({label_col:'size'})\n",
        "    df_interest_data_heat_grouped = df_interest_data_heat_grouped.reset_index()\n",
        "    df_interest_data_heat_pivot = df_interest_data_heat_grouped.pivot(\"day_of_the_week\",\"hour_of_the_day\",label_col)\n",
        "    heatt = sns.heatmap(df_interest_data_heat_pivot)\n",
        "    heatt.figure.savefig(\"Heatmap_\"+algotype+\".png\")"
      ],
      "execution_count": null,
      "outputs": []
    },
    {
      "cell_type": "code",
      "metadata": {
        "id": "MWEk0Yxq87xR",
        "colab_type": "code",
        "colab": {}
      },
      "source": [
        "def calc_dayvshreda():\n",
        "    #loading the dataset\n",
        "    df_labeled_data = pd.read_csv('/content/drive/My Drive/Com-Olho-Datasets/Unstructured_Data/Research_Extract_With_Labels.csv')\n",
        "    df_labeled_data.head()\n",
        "    #selecting the columns of interest\n",
        "    lst = ['custom_req_date','custom_req_time','TV_lof','TV_hbos']\n",
        "    df_interest_data = df_labeled_data[df_labeled_data.columns.intersection(lst)]\n",
        "    #checking the number of nan's in the dataset\n",
        "    print(df_interest_data['custom_req_date'].isna().sum())\n",
        "    print(df_interest_data['custom_req_time'].isna().sum())\n",
        "    print(df_interest_data['TV_lof'].isna().sum())\n",
        "    print(df_interest_data['TV_hbos'].isna().sum())\n",
        "    #removing those rows from the dataset and checking again\n",
        "    df_interest_data = df_interest_data.dropna()\n",
        "    print(df_interest_data['custom_req_date'].isna().sum())\n",
        "    print(df_interest_data['custom_req_time'].isna().sum())\n",
        "    print(df_interest_data['TV_lof'].isna().sum())\n",
        "    print(df_interest_data['TV_hbos'].isna().sum())\n",
        "    #making time and date columns in correct format\n",
        "    cleaned_date = []\n",
        "    cleaned_time = []\n",
        "    for ind,row in df_interest_data.iterrows():\n",
        "        #clean date\n",
        "        lst = []\n",
        "        lst_new = []\n",
        "        date_str = str(row[0])\n",
        "        lst = date_str.split(\" \")\n",
        "        lst_new = (lst[0].replace(\"-\",\"/\")).split(\"/\")\n",
        "        lst_new[2] = lst_new[2].replace(\"2019\",\"19\")\n",
        "        cleaned_date.append(lst_new[0]+\"/\"+lst_new[1]+\"/20\"+lst_new[2])\n",
        "        #clean time\n",
        "        lst1 = []\n",
        "        time_str = str(row[1])\n",
        "        lst1 = time_str.split(\":\")\n",
        "        cleaned_time.append(lst1[0]+\":\"+lst1[1])\n",
        "    df_interest_data[\"date_cleaned\"] = cleaned_date\n",
        "    df_interest_data[\"time_cleaned\"] = cleaned_time\n",
        "    df_interest_data = df_interest_data.drop(['custom_req_date','custom_req_time'],axis=1)\n",
        "    #Getting day of the week from date\n",
        "    m = []\n",
        "    week_days= ['Monday', 'Tuesday', 'Wednesday', 'Thursday', 'Friday', 'Saturday','Sunday']\n",
        "    for ind,row in df_interest_data.iterrows():\n",
        "        l = []\n",
        "        l=row[2].split(\"/\")\n",
        "        day=datetime.date(int(l[2]),int(l[0]),int(l[1])).weekday()\n",
        "        m.append(week_days[day])\n",
        "    df_interest_data['day_of_the_week'] = m\n",
        "    #Splitting time into hours and minutes\n",
        "    hrs1 = []\n",
        "    mins1 = []\n",
        "    for ind,row in df_interest_data.iterrows():\n",
        "        lst = []\n",
        "        lst = row[3].split(\":\")\n",
        "        hrs1.append(int(lst[0]))\n",
        "        mins1.append(int(lst[1]))\n",
        "    df_interest_data[\"hour_of_the_day\"] = hrs1\n",
        "    df_interest_data[\"min_of_the_hour\"] = mins1\n",
        "    plot_histo(df_interest_data,\"lof\")"
      ],
      "execution_count": null,
      "outputs": []
    },
    {
      "cell_type": "code",
      "metadata": {
        "id": "CmK5Q-S-84br",
        "colab_type": "code",
        "colab": {
          "base_uri": "https://localhost:8080/",
          "height": 690
        },
        "outputId": "0fe003d5-65e1-4dfe-d2cd-8ad01f5f92d0"
      },
      "source": [
        "#my main function\n",
        "calc_pca()\n",
        "calc_dayvshreda()"
      ],
      "execution_count": null,
      "outputs": [
        {
          "output_type": "display_data",
          "data": {
            "image/png": "[encoded data removed]",
            "text/plain": [
              "<Figure size 432x288 with 1 Axes>"
            ]
          },
          "metadata": {
            "tags": [],
            "needs_background": "light"
          }
        },
        {
          "output_type": "stream",
          "text": [
            "2\n",
            "2\n",
            "0\n",
            "0\n",
            "0\n",
            "0\n",
            "0\n",
            "0\n"
          ],
          "name": "stdout"
        },
        {
          "output_type": "display_data",
          "data": {
            "image/png": "[encoded data removed]",
            "text/plain": [
              "<Figure size 432x288 with 2 Axes>"
            ]
          },
          "metadata": {
            "tags": [],
            "needs_background": "light"
          }
        }
      ]
    },
    {
      "cell_type": "code",
      "metadata": {
        "id": "cnh2hyASOejK",
        "colab_type": "code",
        "colab": {}
      },
      "source": [
        ""
      ],
      "execution_count": null,
      "outputs": []
    }
  ]
}